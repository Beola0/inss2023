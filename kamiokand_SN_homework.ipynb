{
 "cells": [
  {
   "cell_type": "markdown",
   "metadata": {},
   "source": [
    "# Solar and reactor neutrino oscillations - Kamiokande-SN exercise\n",
    "\n",
    "Based on Kamiokande measurements and detector characteristics, evaluate the energy releases by SN 1987A."
   ]
  },
  {
   "cell_type": "markdown",
   "metadata": {},
   "source": [
    "## Evaluate number of electron antineutrinos emitted by SN 1987A\n",
    "\n",
    "The equation used to evaluate the number of electron antineutrinos, $\\bar{\\nu}_e$, emitted by the SN explosion in 1987 is the following:\n",
    "\n",
    "$ N_{\\bar{\\nu}_e}^{detected} = N_{\\bar{\\nu}_e}^{SN} \\frac{1}{4 \\pi L^2} N_p \\sigma_{IBD} P_{ee} $,\n",
    "\n",
    "where:\n",
    "- $N_{\\bar{\\nu}_e}^{detected} = 11$ is the number of $\\bar{\\nu}_e$ detected by KamLAND through IBD\n",
    "- $N_{\\bar{\\nu}_e}^{SN}$ is the number of $\\bar{\\nu}_e$ emitted by the SN, which is what we want to evaluate\n",
    "- $L$ is the baseline, i.e., the distance between the source and the detector, which is 55 kpc\n",
    "- $N_p$ is the number of target protons\n",
    "- $\\sigma_{IBD}$ is the IBD cross section\n",
    "- $P_{ee}$ is the averaged survival probability for $\\bar{\\nu}_e$\n",
    "\n",
    "No piece of information is given on the detector efficiency so we assume it equal to 1."
   ]
  },
  {
   "cell_type": "code",
   "execution_count": 21,
   "metadata": {},
   "outputs": [],
   "source": [
    "import numpy as np\n",
    "import math"
   ]
  },
  {
   "cell_type": "code",
   "execution_count": 17,
   "metadata": {},
   "outputs": [
    {
     "data": {
      "text/plain": [
       "1.6973e+23"
      ]
     },
     "execution_count": 17,
     "metadata": {},
     "output_type": "execute_result"
    }
   ],
   "source": [
    "nb_nu_detected = 11\n",
    "baseline_pc = 55e3 \n",
    "baseline_cm = baseline_pc * 3.086e16 * 100\n",
    "baseline_cm"
   ]
  },
  {
   "cell_type": "markdown",
   "metadata": {},
   "source": [
    "Let's evaluate the IBD cross section, as:\n",
    "\n",
    "$ \\sigma_{IBD} (E_{e^+}) = 0.96\\cdot 10^{-43} p_{e^+} E_{e^+} $ [$\\textrm{cm}^2$], \n",
    "\n",
    "where $E_{e^+}$ and $p_{e^+}$ are the energy and momentum of the positron, respectively, in MeV.\n",
    "\n",
    "Let's consider the mean $\\bar{\\nu}_e$ energy, which is 15 MeV. \n",
    "\n",
    "The positron energy equal the mean $\\bar{\\nu}_e$ energy minus 1.3 MeV, which is the difference in mass between the neutron and the proton.\n",
    "\n",
    "The positron momentum is evaluated as:\n",
    "$ p_{e^+} = \\sqrt{ E_{e^+}^2 - m_e^2 } $."
   ]
  },
  {
   "cell_type": "code",
   "execution_count": 18,
   "metadata": {},
   "outputs": [
    {
     "data": {
      "text/plain": [
       "1.8005701829595094e-41"
      ]
     },
     "execution_count": 18,
     "metadata": {},
     "output_type": "execute_result"
    }
   ],
   "source": [
    "const = 0.96e-43\n",
    "mean_nu_energy = 15  # [MeV]\n",
    "mean_positron_energy = mean_nu_energy - 1.3\n",
    "\n",
    "# positron momentum\n",
    "m_e = 0.511\n",
    "positron_momentum = np.sqrt(mean_positron_energy**2 - m_e**2)\n",
    "\n",
    "ibd_xsection = const * positron_momentum * mean_positron_energy\n",
    "ibd_xsection"
   ]
  },
  {
   "cell_type": "markdown",
   "metadata": {},
   "source": [
    "Let's evaluate the number of proton targets from the total mass of 2.14 ktons of water.\n",
    "\n",
    "The number of protons is:\n",
    "\n",
    "$N_p = \\frac{ M \\cdot f_H \\cdot a_{^1H} }{ m_H }$,\n",
    "\n",
    "where:\n",
    "- $M = 2.14$ kton is the total water mass\n",
    "- $f_H$ is the **mass fraction** of hydrogen in water\n",
    "- $a_{^1H} = 0.999885$ is the abundance of $^1H$ nuclei\n",
    "- $m_H = 1.008 amu$ is the hydrogen mass\n",
    "\n",
    "The mass fraction of hydrogen is:\n",
    "\n",
    "$f_H = \\frac{n_H \\cdot m_H}{n_H \\cdot m_H + n_O \\cdot m_O}$,\n",
    "\n",
    "where, for water (H2O), $n_H=2$ and $n_O=1$."
   ]
  },
  {
   "cell_type": "code",
   "execution_count": 19,
   "metadata": {},
   "outputs": [
    {
     "data": {
      "text/plain": [
       "1.4310389936097429e+32"
      ]
     },
     "execution_count": 19,
     "metadata": {},
     "output_type": "execute_result"
    }
   ],
   "source": [
    "a_h = 0.999885\n",
    "total_mass_kg = 2.14e3 * 1.e3\n",
    "m_h = 1.008 * 1.66e-27  # [kg]\n",
    "\n",
    "h_amu = 1.008\n",
    "o_amu = 15.999\n",
    "n_h = 2\n",
    "n_o = 1\n",
    "f_h = h_amu*n_h / (h_amu*n_h + o_amu*n_o)\n",
    "\n",
    "nb_protons = total_mass_kg * f_h * a_h / m_h\n",
    "nb_protons"
   ]
  },
  {
   "cell_type": "markdown",
   "metadata": {},
   "source": [
    "The average electron antineutrino survival probability is:\n",
    "\n",
    "$P_{ee} = 1- \\frac{1}{2} \\sin^2 (2 \\theta_{12})$,\n",
    "\n",
    "where I use the following trigonometric identity:\n",
    "\n",
    "$\\sin^2 (2 \\theta_{12}) = 4 \\sin^2 \\theta_{12} (1 - \\cos^2 \\theta_{12})$\n",
    "\n",
    "where $\\sin^2 \\theta_{12} = 0.303$ from latest NUFit global fit (5.2, 2022)."
   ]
  },
  {
   "cell_type": "code",
   "execution_count": 20,
   "metadata": {},
   "outputs": [
    {
     "data": {
      "text/plain": [
       "0.577618"
      ]
     },
     "execution_count": 20,
     "metadata": {},
     "output_type": "execute_result"
    }
   ],
   "source": [
    "s2_theta12 = 0.303\n",
    "temp = 4 * s2_theta12 * (1-s2_theta12)\n",
    "\n",
    "prob_ee = 1 - 0.5 * temp\n",
    "prob_ee"
   ]
  },
  {
   "cell_type": "markdown",
   "metadata": {},
   "source": [
    "Now let's invert the equation at the top of this notebook and get the number of $\\bar{\\nu}_e$ emitted by the SN:"
   ]
  },
  {
   "cell_type": "code",
   "execution_count": 24,
   "metadata": {},
   "outputs": [
    {
     "data": {
      "text/plain": [
       "2.6755774765826537e+57"
      ]
     },
     "execution_count": 24,
     "metadata": {},
     "output_type": "execute_result"
    }
   ],
   "source": [
    "nb_nu_emitted = nb_nu_detected * 4 * math.pi * baseline_cm**2 / (nb_protons * ibd_xsection * prob_ee)\n",
    "nb_nu_emitted"
   ]
  },
  {
   "cell_type": "markdown",
   "metadata": {},
   "source": [
    "Taking the neutrino mean energy of 15 MeV, we can get the total energy emitted in the form of $\\bar{\\nu}_e$:"
   ]
  },
  {
   "cell_type": "code",
   "execution_count": 27,
   "metadata": {},
   "outputs": [
    {
     "data": {
      "text/plain": [
       "4.0133662148739804e+58"
      ]
     },
     "execution_count": 27,
     "metadata": {},
     "output_type": "execute_result"
    }
   ],
   "source": [
    "total_nue_energy = nb_nu_emitted * mean_nu_energy\n",
    "total_nue_energy  # MeV"
   ]
  },
  {
   "cell_type": "markdown",
   "metadata": {},
   "source": [
    "Now, we know that all flavors of neutrino-antineutrino pairs are emitted in equal amounts, so the total SN energy emitted in form of neutrino of any flavors is 6 times the energy emitted as electron antineutrinos:"
   ]
  },
  {
   "cell_type": "code",
   "execution_count": 28,
   "metadata": {},
   "outputs": [
    {
     "data": {
      "text/plain": [
       "2.408019728924388e+59"
      ]
     },
     "execution_count": 28,
     "metadata": {},
     "output_type": "execute_result"
    }
   ],
   "source": [
    "total_nu_energy = total_nue_energy * 6\n",
    "total_nu_energy  # MeV"
   ]
  },
  {
   "cell_type": "markdown",
   "metadata": {},
   "source": [
    "The energy emitted in the form of neutrinos is 99% of the total SN energy:"
   ]
  },
  {
   "cell_type": "code",
   "execution_count": 29,
   "metadata": {},
   "outputs": [
    {
     "data": {
      "text/plain": [
       "2.4323431605296853e+59"
      ]
     },
     "execution_count": 29,
     "metadata": {},
     "output_type": "execute_result"
    }
   ],
   "source": [
    "total_energy = total_nu_energy / 0.99\n",
    "total_energy"
   ]
  },
  {
   "cell_type": "markdown",
   "metadata": {},
   "source": [
    "Expressing energy in ergs and not in MeV, konwing that $1$ MeV = $1.6 \\cdot 10^{-6}$ ergs:"
   ]
  },
  {
   "cell_type": "code",
   "execution_count": 30,
   "metadata": {},
   "outputs": [
    {
     "data": {
      "text/plain": [
       "3.891749056847496e+53"
      ]
     },
     "execution_count": 30,
     "metadata": {},
     "output_type": "execute_result"
    }
   ],
   "source": [
    "total_energy * 1.6e-6"
   ]
  },
  {
   "cell_type": "markdown",
   "metadata": {},
   "source": [
    "To be compared to the value in the paper: $3 \\cdot 10^{53}$ ergs."
   ]
  }
 ],
 "metadata": {
  "kernelspec": {
   "display_name": "fitter",
   "language": "python",
   "name": "python3"
  },
  "language_info": {
   "codemirror_mode": {
    "name": "ipython",
    "version": 3
   },
   "file_extension": ".py",
   "mimetype": "text/x-python",
   "name": "python",
   "nbconvert_exporter": "python",
   "pygments_lexer": "ipython3",
   "version": "3.11.3"
  },
  "orig_nbformat": 4
 },
 "nbformat": 4,
 "nbformat_minor": 2
}
